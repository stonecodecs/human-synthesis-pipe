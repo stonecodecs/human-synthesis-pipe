{
 "cells": [
  {
   "cell_type": "code",
   "execution_count": 1,
   "id": "735fc27f",
   "metadata": {},
   "outputs": [],
   "source": [
    "%load_ext autoreload\n",
    "%autoreload 2"
   ]
  },
  {
   "cell_type": "code",
   "execution_count": null,
   "id": "9158afb7",
   "metadata": {},
   "outputs": [],
   "source": [
    "import numpy as np\n",
    "from crop import crop_image\n",
    "from ic_light import process_relight\n",
    "import matplotlib.pyplot as plt\n",
    "from prompt_sampler import PromptSampler\n",
    "import cv2\n",
    "\n",
    "def relight_image(image_path, mask_path, prompt_sampler=None):\n",
    "    cropped_image = crop_image(\n",
    "        image_path,\n",
    "        mask_path,\n",
    "        background_color=(0,) * 3,\n",
    "        padding=60\n",
    "    )\n",
    "    np_cropped = np.array(cropped_image)\n",
    "    np_cropped = cv2.resize(np_cropped, (576, 576), interpolation=cv2.INTER_LANCZOS4)\n",
    "    plt.imshow(np_cropped)\n",
    "    plt.show()\n",
    "\n",
    "    # enhance prompt\n",
    "    if prompt_sampler is not None:\n",
    "        light_prompt = prompt_sampler.sample_prompt()[0]\n",
    "    else:\n",
    "        light_prompt = \"Steamy bathroom with a white LCD light above. Only one human present.\"\n",
    "\n",
    "    print(light_prompt)\n",
    "\n",
    "    # relight the image\n",
    "    h, w, _ = np_cropped.shape\n",
    "\n",
    "    h = h - (h % 8)\n",
    "    w = w - (w % 8)\n",
    "    \n",
    "    print(h,w)\n",
    "\n",
    "    input_fg, results = process_relight(\n",
    "        np_cropped,\n",
    "        light_prompt,\n",
    "        w,\n",
    "        h,\n",
    "        1,\n",
    "        12345,\n",
    "        25,\n",
    "        \"best quality\",\n",
    "        \"lowres, bad anatomy, bad hands, cropped, worst quality, pitch black\",\n",
    "        2.0, # cfg\n",
    "        1024/576, # highres scale\n",
    "        0.5, # highres denoise\n",
    "        0.9, # lowres denoise\n",
    "        \"None\"\n",
    "    )\n",
    "\n",
    "    return results[0]\n",
    "\n",
    "relit = relight_image(\n",
    "    \"/workspace/datasetvol/mvhuman_data/mv_captures/101032/images_lr/CC32871A018/0800_img.jpg\",\n",
    "    \"/workspace/datasetvol/mvhuman_data/mv_captures/101032/fmask_lr/CC32871A018/0800_img_fmask.png\",\n",
    "    prompt_sampler=PromptSampler(\"/workspace/datasetvol/light_prompts.txt\")\n",
    ")\n",
    "\n",
    "plt.imshow(relit)\n",
    "plt.show()"
   ]
  },
  {
   "cell_type": "code",
   "execution_count": null,
   "id": "2b107d6a",
   "metadata": {},
   "outputs": [],
   "source": []
  }
 ],
 "metadata": {
  "kernelspec": {
   "display_name": "Python 3",
   "language": "python",
   "name": "python3"
  },
  "language_info": {
   "codemirror_mode": {
    "name": "ipython",
    "version": 3
   },
   "file_extension": ".py",
   "mimetype": "text/x-python",
   "name": "python",
   "nbconvert_exporter": "python",
   "pygments_lexer": "ipython3",
   "version": "3.10.18"
  }
 },
 "nbformat": 4,
 "nbformat_minor": 5
}
